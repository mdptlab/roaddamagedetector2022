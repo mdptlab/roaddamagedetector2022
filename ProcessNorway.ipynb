{
 "cells": [
  {
   "cell_type": "code",
   "execution_count": 1,
   "metadata": {},
   "outputs": [],
   "source": [
    "import os\n",
    "from tqdm.auto import tqdm\n",
    "from glob import glob\n",
    "from PIL import Image, ImageDraw # draw on images\n",
    "from IPython.display import display # display images on jupyter notebook\n",
    "import numpy as np\n"
   ]
  },
  {
   "cell_type": "code",
   "execution_count": 2,
   "metadata": {},
   "outputs": [],
   "source": [
    "input_dir = \"RDD2022_0/Norway\"\n",
    "output_dir = \"RDD2022_0/Norway1\"\n",
    "os.makedirs(output_dir, exist_ok=True)"
   ]
  },
  {
   "cell_type": "code",
   "execution_count": 3,
   "metadata": {},
   "outputs": [],
   "source": [
    "input_train_images = os.path.join(input_dir, \"train/images\")\n",
    "input_test_images = os.path.join(input_dir, \"test/images\")\n",
    "input_train_annotations = os.path.join(input_dir, \"train/annotations/xmls\")"
   ]
  },
  {
   "cell_type": "markdown",
   "metadata": {},
   "source": [
    "# Check Image Sizes"
   ]
  },
  {
   "cell_type": "code",
   "execution_count": 4,
   "metadata": {},
   "outputs": [
    {
     "data": {
      "application/vnd.jupyter.widget-view+json": {
       "model_id": "03ab425e845a430dae7f8406ec3a9bb2",
       "version_major": 2,
       "version_minor": 0
      },
      "text/plain": [
       "HBox(children=(FloatProgress(value=0.0, max=8161.0), HTML(value='')))"
      ]
     },
     "metadata": {},
     "output_type": "display_data"
    },
    {
     "name": "stdout",
     "output_type": "stream",
     "text": [
      "\n"
     ]
    }
   ],
   "source": [
    "files = glob(os.path.join(input_train_images, \"*.jpg\"))\n",
    "widths = set()\n",
    "heights = set() \n",
    "for f in tqdm(files):\n",
    "    img = Image.open(f)\n",
    "    w, h = img.size\n",
    "    widths.add(w)\n",
    "    heights.add(h)\n"
   ]
  },
  {
   "cell_type": "code",
   "execution_count": 5,
   "metadata": {},
   "outputs": [
    {
     "data": {
      "text/plain": [
       "{3643, 3650, 4040}"
      ]
     },
     "execution_count": 5,
     "metadata": {},
     "output_type": "execute_result"
    }
   ],
   "source": [
    "widths"
   ]
  },
  {
   "cell_type": "code",
   "execution_count": 6,
   "metadata": {},
   "outputs": [
    {
     "data": {
      "text/plain": [
       "{2035, 2041, 2044}"
      ]
     },
     "execution_count": 6,
     "metadata": {},
     "output_type": "execute_result"
    }
   ],
   "source": [
    "heights"
   ]
  },
  {
   "cell_type": "code",
   "execution_count": 7,
   "metadata": {},
   "outputs": [],
   "source": [
    "output_train_images = os.path.join(output_dir, \"train/images\")\n",
    "output_test_images = os.path.join(output_dir, \"test/images\")\n",
    "output_train_annotations = os.path.join(output_dir, \"train/annotations/xmls\")\n",
    "os.makedirs(output_train_images, exist_ok=True)\n",
    "os.makedirs(output_test_images, exist_ok=True)\n",
    "os.makedirs(output_train_annotations, exist_ok=True)"
   ]
  },
  {
   "cell_type": "markdown",
   "metadata": {},
   "source": [
    "# Crop the images"
   ]
  },
  {
   "cell_type": "code",
   "execution_count": 8,
   "metadata": {},
   "outputs": [],
   "source": [
    "img_size = 1824\n",
    "# cut img\n",
    "def cut_img(file):\n",
    "    img = Image.open(file)\n",
    "    img_w, img_h = img.size\n",
    "    img = img.crop((0, img_h-img_size, img_size, img_h))\n",
    "    # save it\n",
    "    img.save(file.replace(input_dir, output_dir))"
   ]
  },
  {
   "cell_type": "code",
   "execution_count": 9,
   "metadata": {},
   "outputs": [
    {
     "data": {
      "application/vnd.jupyter.widget-view+json": {
       "model_id": "75f70d649d7b4f7da30315543d59dc84",
       "version_major": 2,
       "version_minor": 0
      },
      "text/plain": [
       "HBox(children=(FloatProgress(value=0.0, max=8161.0), HTML(value='')))"
      ]
     },
     "metadata": {},
     "output_type": "display_data"
    },
    {
     "name": "stdout",
     "output_type": "stream",
     "text": [
      "\n"
     ]
    }
   ],
   "source": [
    "files = glob(os.path.join(input_train_images, \"*.jpg\"))\n",
    "for file in tqdm(files):\n",
    "    cut_img(file)"
   ]
  },
  {
   "cell_type": "code",
   "execution_count": 10,
   "metadata": {},
   "outputs": [
    {
     "data": {
      "application/vnd.jupyter.widget-view+json": {
       "model_id": "76d8605e8302423998f256e1bc4c3c94",
       "version_major": 2,
       "version_minor": 0
      },
      "text/plain": [
       "HBox(children=(FloatProgress(value=0.0, max=2040.0), HTML(value='')))"
      ]
     },
     "metadata": {},
     "output_type": "display_data"
    },
    {
     "name": "stdout",
     "output_type": "stream",
     "text": [
      "\n"
     ]
    }
   ],
   "source": [
    "files = glob(os.path.join(input_test_images, \"*.jpg\"))\n",
    "for file in tqdm(files):\n",
    "    cut_img(file)"
   ]
  },
  {
   "cell_type": "markdown",
   "metadata": {},
   "source": [
    "# Crop the annotations\n"
   ]
  },
  {
   "cell_type": "code",
   "execution_count": 11,
   "metadata": {},
   "outputs": [],
   "source": [
    "import xml.etree.ElementTree as ET # parse xml anotation\n"
   ]
  },
  {
   "cell_type": "code",
   "execution_count": 12,
   "metadata": {},
   "outputs": [],
   "source": [
    "def cut_anno(file, new_width=1824, new_height=1824):\n",
    "    out_range = 0\n",
    "    in_range = 0\n",
    "    # parse the content of the xml file\n",
    "    tree = ET.parse(file)\n",
    "    root = tree.getroot()\n",
    "    width = int(root.find(\"size\").find(\"width\").text)\n",
    "    height = int(root.find(\"size\").find(\"height\").text)\n",
    "    root.find(\"size\").find(\"width\").text = str(new_width)\n",
    "    root.find(\"size\").find(\"height\").text = str(new_height)\n",
    "    \n",
    "    for obj in root.findall('object'):\n",
    "#         import pdb\n",
    "#         pdb.set_trace()\n",
    "        xmin = obj.find(\"bndbox\").find(\"xmin\")\n",
    "        ymin = obj.find(\"bndbox\").find(\"ymin\")\n",
    "        xmax = obj.find(\"bndbox\").find(\"xmax\")\n",
    "        ymax = obj.find(\"bndbox\").find(\"ymax\")\n",
    "        # convert to ints\n",
    "        ymin_val = int(float(ymin.text)) - (height-new_height)\n",
    "        ymax_val = int(float(ymax.text)) - (height-new_height)\n",
    "        xmax_val = int(float(xmax.text))\n",
    "        xmin_val = int(float(xmin.text))\n",
    "        # crop the boxes\n",
    "        if ymin_val < 0:\n",
    "            ymin_val = 0\n",
    "            \n",
    "        if xmax_val > new_width:\n",
    "            xmax_val = new_width\n",
    "        \n",
    "        h = ymax_val - ymin_val\n",
    "        w = xmax_val - xmin_val\n",
    "        \n",
    "        # if the box is out of range remove it\n",
    "        if ymax_val <= 0 or xmin_val >= new_width or h<=0 or w <= 0 or h*w <= 20: # too small\n",
    "            root.remove(obj)\n",
    "            out_range += 1\n",
    "        else:\n",
    "            xmin.text = str(xmin_val)\n",
    "            ymin.text = str(ymin_val)\n",
    "            xmax.text = str(xmax_val)\n",
    "            ymax.text = str(ymax_val)\n",
    "            in_range += 1\n",
    "    # write output\n",
    "    tree.write(file.replace(input_dir, output_dir))\n",
    "    return out_range, in_range"
   ]
  },
  {
   "cell_type": "code",
   "execution_count": 13,
   "metadata": {},
   "outputs": [],
   "source": [
    "files = glob(os.path.join(input_train_annotations, \"*.xml\"))"
   ]
  },
  {
   "cell_type": "code",
   "execution_count": 14,
   "metadata": {},
   "outputs": [
    {
     "data": {
      "text/plain": [
       "8161"
      ]
     },
     "execution_count": 14,
     "metadata": {},
     "output_type": "execute_result"
    }
   ],
   "source": [
    "len(files)"
   ]
  },
  {
   "cell_type": "code",
   "execution_count": 15,
   "metadata": {},
   "outputs": [
    {
     "data": {
      "application/vnd.jupyter.widget-view+json": {
       "model_id": "dca1dad0799c46389a38b2a15e84fc0b",
       "version_major": 2,
       "version_minor": 0
      },
      "text/plain": [
       "HBox(children=(FloatProgress(value=0.0, max=8161.0), HTML(value='')))"
      ]
     },
     "metadata": {},
     "output_type": "display_data"
    },
    {
     "name": "stdout",
     "output_type": "stream",
     "text": [
      "\n"
     ]
    }
   ],
   "source": [
    "total_out = 0\n",
    "total_in = 0\n",
    "for file in tqdm(files):\n",
    "    o, i = cut_anno(file)\n",
    "    total_out += o\n",
    "    total_in += i"
   ]
  },
  {
   "cell_type": "code",
   "execution_count": 16,
   "metadata": {},
   "outputs": [
    {
     "data": {
      "text/plain": [
       "(537, 10692)"
      ]
     },
     "execution_count": 16,
     "metadata": {},
     "output_type": "execute_result"
    }
   ],
   "source": [
    "total_out, total_in"
   ]
  },
  {
   "cell_type": "code",
   "execution_count": null,
   "metadata": {},
   "outputs": [],
   "source": []
  }
 ],
 "metadata": {
  "kernelspec": {
   "display_name": "Python 3",
   "language": "python",
   "name": "python3"
  },
  "language_info": {
   "codemirror_mode": {
    "name": "ipython",
    "version": 3
   },
   "file_extension": ".py",
   "mimetype": "text/x-python",
   "name": "python",
   "nbconvert_exporter": "python",
   "pygments_lexer": "ipython3",
   "version": "3.7.13"
  }
 },
 "nbformat": 4,
 "nbformat_minor": 4
}
