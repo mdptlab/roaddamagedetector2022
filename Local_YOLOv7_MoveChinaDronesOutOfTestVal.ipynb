{
 "cells": [
  {
   "cell_type": "code",
   "execution_count": 6,
   "metadata": {},
   "outputs": [],
   "source": [
    "import os\n",
    "from glob import glob\n",
    "import shutil"
   ]
  },
  {
   "cell_type": "code",
   "execution_count": 4,
   "metadata": {},
   "outputs": [
    {
     "data": {
      "text/plain": [
       "'/home/pham/Documents/SHSU/Researching/roaddamagedetector'"
      ]
     },
     "execution_count": 4,
     "metadata": {},
     "output_type": "execute_result"
    }
   ],
   "source": [
    "pwd()"
   ]
  },
  {
   "cell_type": "code",
   "execution_count": 5,
   "metadata": {},
   "outputs": [
    {
     "name": "stdout",
     "output_type": "stream",
     "text": [
      "Local_YOLOv7_DataConversion.ipynb   \u001b[0m\u001b[01;31mRDD2022_India.zip\u001b[0m\r\n",
      "Local_YOLOv7_Exploration.ipynb      \u001b[01;31mRDD2022_Japan.zip\u001b[0m\r\n",
      "Local_YOLOv7_ValidationSplit.ipynb  \u001b[01;31mRDD2022_Norway.zip\u001b[0m\r\n",
      "\u001b[01;34mRDD2022\u001b[0m/                            \u001b[01;31mRDD2022_United_States.zip\u001b[0m\r\n",
      "\u001b[01;31mRDD2022_China_Drone.zip\u001b[0m             \u001b[01;34myolov7\u001b[0m/\r\n",
      "\u001b[01;31mRDD2022_China_MotorBike.zip\u001b[0m         \u001b[01;31myolov7-main.zip\u001b[0m\r\n",
      "\u001b[01;31mRDD2022_Czech.zip\u001b[0m\r\n"
     ]
    }
   ],
   "source": [
    "ls"
   ]
  },
  {
   "cell_type": "code",
   "execution_count": 7,
   "metadata": {},
   "outputs": [],
   "source": [
    "input_dir = \"RDD2022/\"\n",
    "classes = [\"D00\", \"D10\", \"D20\", \"D40\"]\n",
    "train_countries = [\"Czech\", \"India\", \"Japan\", \"Norway\", \"United_States\", \"China_MotorBike\", \"China_Drone\"]\n",
    "test_countries = [\"Czech\", \"India\", \"Japan\", \"Norway\", \"United_States\", \"China_MotorBike\"]"
   ]
  },
  {
   "cell_type": "code",
   "execution_count": 10,
   "metadata": {},
   "outputs": [],
   "source": [
    "val_annos = glob(os.path.join(input_dir, \"labels/val\", '*.txt'))"
   ]
  },
  {
   "cell_type": "code",
   "execution_count": 11,
   "metadata": {},
   "outputs": [
    {
     "data": {
      "text/plain": [
       "1189"
      ]
     },
     "execution_count": 11,
     "metadata": {},
     "output_type": "execute_result"
    }
   ],
   "source": [
    "len(val_annos)"
   ]
  },
  {
   "cell_type": "code",
   "execution_count": 13,
   "metadata": {},
   "outputs": [
    {
     "name": "stdout",
     "output_type": "stream",
     "text": [
      "54\n",
      "161\n",
      "395\n",
      "146\n",
      "240\n",
      "97\n",
      "96\n"
     ]
    }
   ],
   "source": [
    "for c in train_countries:\n",
    "    va = glob(os.path.join(input_dir, \"labels/val\", f'*{c}*.txt'))\n",
    "    print(len(va))"
   ]
  },
  {
   "cell_type": "markdown",
   "metadata": {},
   "source": [
    "# Move all china drone from val to train"
   ]
  },
  {
   "cell_type": "code",
   "execution_count": 16,
   "metadata": {},
   "outputs": [],
   "source": [
    "# move all china drones from val to training\n",
    "china_drone_annos = glob(os.path.join(input_dir, \"labels/val\", f\"*{train_countries[-1]}*\"))"
   ]
  },
  {
   "cell_type": "code",
   "execution_count": 24,
   "metadata": {},
   "outputs": [],
   "source": [
    "for f in china_drone_annos:\n",
    "    shutil.move(f, 'RDD2022/labels/train/')\n",
    "    img_f = os.path.splitext(f)[0].replace('/labels/val/', '/images/val/') + '.jpg'\n",
    "    shutil.move(img_f, 'RDD2022/images/train/')"
   ]
  },
  {
   "cell_type": "code",
   "execution_count": 25,
   "metadata": {},
   "outputs": [],
   "source": [
    "# move all china drones from test to training\n",
    "china_drone_annos = glob(os.path.join(input_dir, \"labels/test\", f\"*{train_countries[-1]}*\"))"
   ]
  },
  {
   "cell_type": "code",
   "execution_count": 27,
   "metadata": {},
   "outputs": [],
   "source": [
    "for f in china_drone_annos:\n",
    "    shutil.move(f, 'RDD2022/labels/train/')\n",
    "    img_f = os.path.splitext(f)[0].replace('/labels/test/', '/images/test/') + '.jpg'\n",
    "    shutil.move(img_f, 'RDD2022/images/train/')"
   ]
  },
  {
   "cell_type": "code",
   "execution_count": 28,
   "metadata": {},
   "outputs": [
    {
     "name": "stdout",
     "output_type": "stream",
     "text": [
      "54\n",
      "161\n",
      "395\n",
      "146\n",
      "240\n",
      "97\n",
      "0\n"
     ]
    }
   ],
   "source": [
    "# Check again\n",
    "for c in train_countries:\n",
    "    va = glob(os.path.join(input_dir, \"labels/val\", f'*{c}*.txt'))\n",
    "    print(len(va))"
   ]
  },
  {
   "cell_type": "code",
   "execution_count": 30,
   "metadata": {},
   "outputs": [
    {
     "name": "stdout",
     "output_type": "stream",
     "text": [
      "54\n",
      "161\n",
      "395\n",
      "146\n",
      "240\n",
      "97\n",
      "0\n"
     ]
    }
   ],
   "source": [
    "# Check again\n",
    "for c in train_countries:\n",
    "    va = glob(os.path.join(input_dir, \"images/val\", f'*{c}*.jpg'))\n",
    "    print(len(va))"
   ]
  },
  {
   "cell_type": "code",
   "execution_count": null,
   "metadata": {},
   "outputs": [],
   "source": []
  }
 ],
 "metadata": {
  "kernelspec": {
   "display_name": "Python 3",
   "language": "python",
   "name": "python3"
  },
  "language_info": {
   "codemirror_mode": {
    "name": "ipython",
    "version": 3
   },
   "file_extension": ".py",
   "mimetype": "text/x-python",
   "name": "python",
   "nbconvert_exporter": "python",
   "pygments_lexer": "ipython3",
   "version": "3.7.13"
  }
 },
 "nbformat": 4,
 "nbformat_minor": 4
}
