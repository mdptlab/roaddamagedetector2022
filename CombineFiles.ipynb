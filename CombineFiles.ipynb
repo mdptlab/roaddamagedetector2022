{
 "cells": [
  {
   "cell_type": "code",
   "execution_count": 294,
   "metadata": {},
   "outputs": [],
   "source": [
    "import os\n",
    "from glob import glob"
   ]
  },
  {
   "cell_type": "code",
   "execution_count": 295,
   "metadata": {},
   "outputs": [
    {
     "data": {
      "text/plain": [
       "'/home/pham/Documents/SHSU/Researching/roaddamagedetector/yolov7'"
      ]
     },
     "execution_count": 295,
     "metadata": {},
     "output_type": "execute_result"
    }
   ],
   "source": [
    "pwd()"
   ]
  },
  {
   "cell_type": "code",
   "execution_count": 296,
   "metadata": {},
   "outputs": [
    {
     "name": "stdout",
     "output_type": "stream",
     "text": [
      "/home/pham/Documents/SHSU/Researching/roaddamagedetector/yolov7\n"
     ]
    }
   ],
   "source": [
    "cd /home/pham/Documents/SHSU/Researching/roaddamagedetector/yolov7"
   ]
  },
  {
   "cell_type": "code",
   "execution_count": 297,
   "metadata": {},
   "outputs": [
    {
     "name": "stdout",
     "output_type": "stream",
     "text": [
      " China_MotorBike0.2-best.txt\r\n",
      " Czech.txt\r\n",
      " India0.4bestruns4_bestforall.txt\r\n",
      "'Japan0.535-runs22-bestboth-difthres(0.05).txt'\r\n",
      " Norway10.4-runs4-bestboth.txt\r\n",
      "'United_States0.500_best_individual_runs13_thresdiff(D00+0.1).txt'\r\n"
     ]
    }
   ],
   "source": [
    "ls bests"
   ]
  },
  {
   "cell_type": "code",
   "execution_count": 298,
   "metadata": {},
   "outputs": [
    {
     "name": "stdout",
     "output_type": "stream",
     "text": [
      "6\n"
     ]
    }
   ],
   "source": [
    "input_dir = \"./bests\"\n",
    "files = glob(os.path.join(input_dir, \"*.txt\"))\n",
    "print(len(files))"
   ]
  },
  {
   "cell_type": "code",
   "execution_count": 299,
   "metadata": {},
   "outputs": [
    {
     "name": "stdout",
     "output_type": "stream",
     "text": [
      "done\n"
     ]
    }
   ],
   "source": [
    "with open(os.path.join(\"\", \"submission.txt\"), 'w') as out:\n",
    "    for f in files:\n",
    "        with open(f, 'r') as of:\n",
    "            out.writelines(of.readlines())\n",
    "print(\"done\")"
   ]
  },
  {
   "cell_type": "code",
   "execution_count": null,
   "metadata": {},
   "outputs": [],
   "source": []
  },
  {
   "cell_type": "code",
   "execution_count": null,
   "metadata": {},
   "outputs": [],
   "source": []
  }
 ],
 "metadata": {
  "kernelspec": {
   "display_name": "Python 3",
   "language": "python",
   "name": "python3"
  },
  "language_info": {
   "codemirror_mode": {
    "name": "ipython",
    "version": 3
   },
   "file_extension": ".py",
   "mimetype": "text/x-python",
   "name": "python",
   "nbconvert_exporter": "python",
   "pygments_lexer": "ipython3",
   "version": "3.7.13"
  }
 },
 "nbformat": 4,
 "nbformat_minor": 4
}
